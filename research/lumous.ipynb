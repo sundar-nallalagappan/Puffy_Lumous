{
 "cells": [
  {
   "cell_type": "markdown",
   "id": "af95f5b4",
   "metadata": {},
   "source": [
    "### SAIRAM"
   ]
  },
  {
   "cell_type": "code",
   "execution_count": 1,
   "id": "bcad278b",
   "metadata": {},
   "outputs": [
    {
     "data": {
      "text/plain": [
       "True"
      ]
     },
     "execution_count": 1,
     "metadata": {},
     "output_type": "execute_result"
    }
   ],
   "source": [
    "import os\n",
    "import numpy as np\n",
    "from dotenv import load_dotenv\n",
    "load_dotenv()"
   ]
  },
  {
   "cell_type": "code",
   "execution_count": 18,
   "id": "00bc40d8",
   "metadata": {},
   "outputs": [],
   "source": [
    "from langchain_openai import ChatOpenAI, OpenAIEmbeddings\n",
    "from langchain.text_splitter import RecursiveCharacterTextSplitter\n",
    "from langchain_core.messages import HumanMessage, AIMessage, ToolMessage, BaseMessage\n",
    "from langchain_community.document_loaders import WebBaseLoader\n",
    "from langchain_community.vectorstores import Chroma\n",
    "from langchain.tools.retriever import create_retriever_tool\n",
    "from pydantic import BaseModel, Field\n",
    "from langchain.prompts import PromptTemplate\n",
    "from langgraph.graph import StateGraph, START, END\n",
    "from langgraph.prebuilt import tools_condition\n",
    "\n",
    "from typing import TypedDict, List, Annotated, Sequence"
   ]
  },
  {
   "cell_type": "code",
   "execution_count": 3,
   "id": "11c44ac1",
   "metadata": {},
   "outputs": [
    {
     "data": {
      "text/plain": [
       "AIMessage(content='Hello! How can I assist you today?', additional_kwargs={'refusal': None}, response_metadata={'token_usage': {'completion_tokens': 9, 'prompt_tokens': 9, 'total_tokens': 18, 'completion_tokens_details': {'accepted_prediction_tokens': 0, 'audio_tokens': 0, 'reasoning_tokens': 0, 'rejected_prediction_tokens': 0}, 'prompt_tokens_details': {'audio_tokens': 0, 'cached_tokens': 0}}, 'model_name': 'gpt-3.5-turbo-0125', 'system_fingerprint': None, 'id': 'chatcmpl-BxaN8zOoVNaQTr4IvEcwtPHwuOGFM', 'service_tier': 'default', 'finish_reason': 'stop', 'logprobs': None}, id='run--68791c52-6e5d-4ca9-84e4-92847fb3b1a1-0', usage_metadata={'input_tokens': 9, 'output_tokens': 9, 'total_tokens': 18, 'input_token_details': {'audio': 0, 'cache_read': 0}, 'output_token_details': {'audio': 0, 'reasoning': 0}})"
      ]
     },
     "execution_count": 3,
     "metadata": {},
     "output_type": "execute_result"
    }
   ],
   "source": [
    "embeddings = OpenAIEmbeddings()\n",
    "len(embeddings.embed_query(\"Hey\"))\n",
    "\n",
    "\n",
    "llm = ChatOpenAI()\n",
    "llm.invoke(\"Hey!\")"
   ]
  },
  {
   "cell_type": "code",
   "execution_count": 4,
   "id": "6bac6450",
   "metadata": {},
   "outputs": [],
   "source": [
    "urls = ['https://puffy.com/pages/puffy-mattress-and-puffy-lux?via=menu_header_mattress',\n",
    "        'https://puffy.com/products/puffy-mattress?via=menu_item_mattresses_puffy-mattress_desktop',\n",
    "        'https://puffy.com/products/puffy-lux-mattress?via=menu_item_mattresses_puffy-lux-mattress_desktop',\n",
    "        'https://puffy.com/products/puffy-royal-mattress?via=menu_item_mattresses_puffy-royal-mattress_desktop',\n",
    "        'https://puffy.com/products/puffy-monarch-mattress?via=menu_item_mattresses_puffy-monarch-mattress_desktop',\n",
    "        'https://puffy.com/collections/smart-bed-sets?via=menu_header_smartbeds',\n",
    "        'https://puffy.com/products/puffy-cloud-smart-bed-set?via=menu_item_smartbeds_puffy-cloud-smart-bed-set_desktop',\n",
    "        'https://puffy.com/products/puffy-lux-smart-bed-set?via=menu_item_smartbeds_puffy-lux-smart-bed-set_desktop',\n",
    "        'https://puffy.com/products/puffy-royal-smart-bed-set?via=menu_item_smartbeds_puffy-royal-smart-bed-set_desktop',\n",
    "        'https://puffy.com/collections/bed-frames?via=menu_header_bedframes',\n",
    "        'https://puffy.com/products/puffy-adjustable-base?via=menu_item_bedframes_puffy-adjustable-base_desktop',\n",
    "        'https://puffy.com/products/puffy-milan-bed-frame?via=menu_item_bedframes_puffy-milan-bed-frame_desktop',\n",
    "        'https://puffy.com/products/puffy-bed-frame?via=menu_item_bedframes_puffy-bed-frame_desktop',\n",
    "        'https://puffy.com/products/puffy-capri-bed-frame?via=menu_item_bedframes_puffy-capri-bed-frame_desktop',\n",
    "        'https://puffy.com/products/puffy-zen-bed-frame?via=menu_item_bedframes_puffy-zen-bed-frame_desktop',\n",
    "        'https://puffy.com/products/puffy-dusk-bed-frame?via=menu_item_bedframes_puffy-dusk-bed-frame_desktop',\n",
    "        'https://puffy.com/products/puffy-foundation?via=menu_item_bedframes_puffy-foundation_desktop',\n",
    "        'https://puffy.com/collections/bedding?via=menu_header_beddings',\n",
    "        'https://puffy.com/products/puffy-topper?via=menu_item_beddings_puffy-topper_desktop',\n",
    "        'https://puffy.com/products/puffy-sheets?via=menu_item_beddings_puffy-sheets_desktop',\n",
    "        'https://puffy.com/products/puffy-mattress-protector?via=menu_item_beddings_puffy-mattress-protector_desktop',\n",
    "        'https://puffy.com/products/puffy-pillow?via=menu_item_beddings_puffy-pillow_desktop',\n",
    "        'https://puffy.com/products/puffy-mattress-pad?via=menu_item_beddings_puffy-mattress-pad_desktop',\n",
    "        'https://puffy.com/products/puffy-comforter?via=menu_item_beddings_puffy-comforter_desktop',\n",
    "        'https://puffy.com/products/puffy-area-rug?via=menu_item_beddings_puffy-area-rug_desktop',\n",
    "        'https://puffy.com/products/puffy-blanket?via=menu_item_beddings_puffy-blanket_desktop',\n",
    "        'https://puffy.com/products/puffy-weighted-blanket?via=menu_item_beddings_puffy-weighted-blanket_desktop',\n",
    "        'https://puffy.com/products/puffy-sleep-mask?via=menu_item_beddings_puffy-sleep-mask_desktop',\n",
    "        'https://puffy.com/products/puffy-sectional?via=menu_item_beddings_puffy-sectional_desktop'\n",
    "        ]"
   ]
  },
  {
   "cell_type": "code",
   "execution_count": 5,
   "id": "8a7fe1bc",
   "metadata": {},
   "outputs": [
    {
     "name": "stdout",
     "output_type": "stream",
     "text": [
      "29\n"
     ]
    },
    {
     "data": {
      "text/plain": [
       "\"Official Puffy® Royal Mattress | Ranked #1 Luxury MattressMENUMATTRESSESSMART BEDSBED FRAMESBEDDING & MOREREVIEWSPUFFY VSSUPPORTSTORES0\\n\\n\\n\\nPuffy RoyalExperience the #1 Award-Winning Ultra-Luxury MattressEndorsed by  the ACABest Soft  Mattress 2025Best Hybrid  Mattress for Pressure Relief  2025Best Ultra Luxury  Mattress 2025Puffy ROYAL MattressHybridRated 5 stars by 12,000+ sleepersAVAILABLE UPGRADES:ComparePuffy ROYALMattressHybrid10 LayersUltra-Plush5-Zoned Support Foam & CoilsNot Offered in TwinUltimate LuxuryPuffy MONARCHMattressHybrid12 LayersLuxury-PlushPremium Alpaca Wool & LatexCHOOSE YOUR SIZE:Size guideTwinTwin XLFullQueenKingCal KingSplit King(Total Value  $2,499)$1,149with code JULYSALEJULY SALEADD TO CART100% money-back guarantee. Order today for delivery by Jul 30 - Aug 4.FREE 2 PILLOWS & SLEEP MASK:$315 FREE2 Signature Memory  Foam PillowS$240Signature  Sleep Mask$75Need  help ordering? Call now.Talk 1-on-1 with our support specialist.Talk 1-on-1 with our support specialist.Call +1 (800) 430-8380orChat With UsMade  in USA.Free shipping. In 1 - 2 days.101-night  sleep trial.Warranty. For life.ProductsMATTRESSESPuffy Cloud MattressPuffy Lux Hybrid MattressPuffy Royal Hybrid MattressPuffy Monarch Hybrid MattressSMART BEDSPuffy Cloud Smart Bed SetPuffy Lux Smart Bed Set HybridPuffy Royal Smart Bed Set HybridPuffy Monarch Smart Bed Set HybridBED FRAMESSerenity Adjustable BaseMilan Bed FrameSterling Bed FrameCapri Bed FrameZen Bed FrameDusk Bed FrameMidnight FoundationBEDDING & MORESignature PillowSignature Sheets SetSignature Mattress ProtectorSignature Sleep MaskDeluxe Mattress TopperDeluxe Mattress PadDeluxe ComforterDeluxe BlanketDeluxe Weighted BlanketSoHo Sectional SofaRugSaleFOLLOW USShop by SizeTwinTwin XLFullQueenKingCal KingSplit KingCompareCompare MattressesMattress QuizPuffy vs Purple MattressPuffy vs Nectar MattressPuffy vs DreamCloud MattressPuffy vs Casper MattressPuffy vs Saatva MattressPuffy vs Tuft & Needle MattressPuffy vs Leesa MattressSize GuidesBed SizesQueen SizeTwin vs Queen SizeKing vs Queen SizeFull vs Queen SizeFull vs Twin SizeKing vs California King SizeBlanket SizesResourcesSleep CalculatorSleep & WellnessBedroom DecorLux ComfortPuffy BlogSitemapCompanyStore LocationsBecome a DealerMattress AwardsPuffy DonationsAffiliate ProgramRefer a FriendHealthcare DiscountMilitary DiscountEducation DiscountSupportReviewsContact UsFAQsFinancingShipping PolicyReturn PolicyPuffy Warranty101-Night Sleep TrialTrack Your OrderAccessibilityProductsShop by SizeCompareCompanySize GuidesSupportResourcesFOLLOW USAWARD-WINNING #1 LUXURY MATTRESSPrivacyTermsCalifornia Privacy NoticeYour Privacy Choices© 2025 Puffy Mattress. All Rights Reserved.We use cookies and third-party technologies on our site to enhance your browsing experience, analyze traffic, provide communication tools, and personalize content and ads. By continuing to use this site or by clicking 'Okay,' you agree to the use of these technologies and the processing of your information as described in our Privacy Policy.Your Privacy ChoicesOKAY\""
      ]
     },
     "execution_count": 5,
     "metadata": {},
     "output_type": "execute_result"
    }
   ],
   "source": [
    "loader=WebBaseLoader(urls)\n",
    "docs = loader.load()\n",
    "print(len(docs))\n",
    "\n",
    "docs[3].page_content"
   ]
  },
  {
   "cell_type": "code",
   "execution_count": 6,
   "id": "c3455ea3",
   "metadata": {},
   "outputs": [
    {
     "name": "stdout",
     "output_type": "stream",
     "text": [
      "92\n",
      "Puffy RoyalExperience the #1 Award-Winning Ultra-Luxury MattressEndorsed by  the ACABest Soft  Mattress 2025Best Hybrid  Mattress for Pressure Relief  2025Best Ultra Luxury  Mattress 2025Puffy ROYAL MattressHybridRated 5 stars by 12,000+ sleepersAVAILABLE UPGRADES:ComparePuffy ROYALMattressHybrid10 LayersUltra-Plush5-Zoned Support Foam & CoilsNot Offered in TwinUltimate LuxuryPuffy MONARCHMattressHybrid12 LayersLuxury-PlushPremium Alpaca Wool & LatexCHOOSE YOUR SIZE:Size guideTwinTwin XLFullQueenKingCal KingSplit King(Total Value  $2,499)$1,149with code JULYSALEJULY SALEADD TO CART100% money-back guarantee. Order today for delivery by Jul 30 - Aug 4.FREE 2 PILLOWS & SLEEP MASK:$315 FREE2 Signature Memory  Foam PillowS$240Signature  Sleep Mask$75Need  help ordering? Call now.Talk 1-on-1 with our support specialist.Talk 1-on-1 with our support specialist.Call +1 (800) 430-8380orChat With UsMade  in USA.Free shipping. In 1 - 2 days.101-night  sleep trial.Warranty. For life.ProductsMATTRESSESPuffy Cloud MattressPuffy Lux Hybrid MattressPuffy Royal Hybrid MattressPuffy Monarch Hybrid MattressSMART BEDSPuffy Cloud Smart Bed SetPuffy Lux Smart Bed Set HybridPuffy Royal Smart Bed Set HybridPuffy Monarch Smart Bed Set HybridBED FRAMESSerenity Adjustable BaseMilan Bed FrameSterling Bed FrameCapri Bed FrameZen Bed FrameDusk Bed\n"
     ]
    }
   ],
   "source": [
    "text_splitter = RecursiveCharacterTextSplitter.from_tiktoken_encoder(chunk_size=400, chunk_overlap=20)\n",
    "#text_splitter = RecursiveCharacterTextSplitter(chunk_size=400, chunk_overlap=0)\n",
    "split_docs = text_splitter.split_documents(docs)\n",
    "print(len(split_docs))\n",
    "print(split_docs[10].page_content)"
   ]
  },
  {
   "cell_type": "code",
   "execution_count": 7,
   "id": "25d9e104",
   "metadata": {},
   "outputs": [
    {
     "data": {
      "text/plain": [
       "<langchain_community.vectorstores.chroma.Chroma at 0x22528941fd0>"
      ]
     },
     "execution_count": 7,
     "metadata": {},
     "output_type": "execute_result"
    }
   ],
   "source": [
    "vector_store = Chroma.from_documents(\n",
    "                documents=split_docs,\n",
    "                collection_name=\"puffy_lumous\",\n",
    "                embedding=embeddings\n",
    "                )\n",
    "vector_store"
   ]
  },
  {
   "cell_type": "code",
   "execution_count": 8,
   "id": "cb5584df",
   "metadata": {},
   "outputs": [
    {
     "data": {
      "text/plain": [
       "[Document(metadata={'language': 'en', 'title': 'Official Puffy® Soho Sectional Sofa | Lounge-Worthy Luxury', 'source': 'https://puffy.com/products/puffy-sectional?via=menu_item_beddings_puffy-sectional_desktop', 'description': 'Official Puffy SoHo Sectional Sofa: Experience exceptional lounging with plush velvet, modular versatility, and lasting luxury. Designed for comfort.'}, page_content='Official Puffy® Soho Sectional Sofa | Lounge-Worthy LuxuryMENUMATTRESSESSMART BEDSBED FRAMESBEDDING & MOREREVIEWSPUFFY VSSUPPORTSTORES0'),\n",
       " Document(metadata={'description': 'Official Puffy SoHo Sectional Sofa: Experience exceptional lounging with plush velvet, modular versatility, and lasting luxury. Designed for comfort.', 'title': 'Official Puffy® Soho Sectional Sofa | Lounge-Worthy Luxury', 'source': 'https://puffy.com/products/puffy-sectional?via=menu_item_beddings_puffy-sectional_desktop', 'language': 'en'}, page_content='Puffy SoHo Sectional Sofa4 Seater + Ottoman / IvoryADD TO CART$2,9994 Seater + Ottoman$3,999$2,999IvoryADD TO CARTPuffy SoHo Sectional SofaAmerica’s #1 Luxury Sectional Without the Luxury Price TagWhy Pay More for Luxury?MARKED UP BRANDS$10,295+Marketing, retail,middleman markup.VSPUFFY LUXURY$2,999Quality materials.Fair prices.Puffy SoHo Sectional SofaRated 5 stars CHOOSE YOUR SIZE:Size guide4 Seater  +  Ottoman3 Seater  +  Ottoman2 Seater  +  OttomanCHOOSE YOUR COLOR:IvoryCharcoal(Total Value  $3,999)$2,999with savingsBuy today and save 25%ADD TO CARTFree shipping. In 1 - 2 days.101-night  trial.Warranty. For life.ProductsMATTRESSESPuffy Cloud MattressPuffy Lux Hybrid MattressPuffy Royal Hybrid MattressPuffy Monarch Hybrid MattressSMART BEDSPuffy Cloud Smart Bed SetPuffy Lux Smart Bed Set HybridPuffy Royal Smart Bed Set HybridPuffy Monarch Smart Bed Set HybridBED FRAMESSerenity Adjustable BaseMilan Bed FrameSterling Bed FrameCapri Bed FrameZen Bed FrameDusk Bed FrameMidnight FoundationBEDDING & MORESignature PillowSignature Sheets SetSignature Mattress ProtectorSignature Sleep MaskDeluxe Mattress TopperDeluxe Mattress PadDeluxe ComforterDeluxe BlanketDeluxe Weighted BlanketSoHo Sectional SofaRugSaleFOLLOW USShop by SizeTwinTwin XLFullQueenKingCal KingSplit KingCompareCompare MattressesMattress QuizPuffy vs Purple MattressPuffy vs Nectar'),\n",
       " Document(metadata={'description': 'The official Puffy Rug is the perfect luxury shag area rug to elevate the comfort of your bedroom or home. Buy now and enjoy free shipping and returns.', 'source': 'https://puffy.com/products/puffy-area-rug?via=menu_item_beddings_puffy-area-rug_desktop', 'title': 'Official Puffy® Area Rug | Luxury Shag Rug for Your Home', 'language': 'en'}, page_content='Official Puffy® Area Rug | Luxury Shag Rug for Your HomeMENUMATTRESSESSMART BEDSBED FRAMESBEDDING & MOREREVIEWSPUFFY VSSUPPORTSTORES0'),\n",
       " Document(metadata={'description': 'Discover the official Puffy Milan Bed Frame: luxurious velvet, channel tufting, and a statement wing headboard. Easy assembly, 101-night trial & free shipping.', 'source': 'https://puffy.com/products/puffy-milan-bed-frame?via=menu_item_bedframes_puffy-milan-bed-frame_desktop', 'title': 'Official Puffy® Milan Bed Frame | Luxurious Channel-Tufted', 'language': 'en'}, page_content='Official Puffy® Milan Bed Frame | Luxurious Channel-TuftedMENUMATTRESSESSMART BEDSBED FRAMESBEDDING & MOREREVIEWSPUFFY VSSUPPORTSTORES0')]"
      ]
     },
     "execution_count": 8,
     "metadata": {},
     "output_type": "execute_result"
    }
   ],
   "source": [
    "vector_store.similarity_search(\"do you have sofa?\")"
   ]
  },
  {
   "cell_type": "code",
   "execution_count": 9,
   "id": "b9def9d8",
   "metadata": {},
   "outputs": [
    {
     "data": {
      "text/plain": [
       "[Document(metadata={'language': 'en', 'source': 'https://puffy.com/products/puffy-pillow?via=menu_item_beddings_puffy-pillow_desktop', 'title': 'Official Puffy® Pillow | Your Ultimate Luxury Pillow', 'description': 'Official Puffy Pillow: Enjoy deep sleep with the luxurious Puffy Pillow, designed for adjustable support and the perfect blend of softness and firmness.'}, page_content='Official Puffy® Pillow | Your Ultimate Luxury PillowMENUMATTRESSESSMART BEDSBED FRAMESBEDDING & MOREREVIEWSPUFFY VSSUPPORTSTORES0'),\n",
       " Document(metadata={'title': 'Official Puffy® Sleep Mask | Your Luxury Sleep Essential', 'language': 'en', 'source': 'https://puffy.com/products/puffy-sleep-mask?via=menu_item_beddings_puffy-sleep-mask_desktop', 'description': 'Official Puffy Signature Sleep Mask: Enhance your sleep quality with our comfortable, light-blocking mask. Experience luxury and a 101-night trial.'}, page_content='Official Puffy® Sleep Mask | Your Luxury Sleep EssentialMENUMATTRESSESSMART BEDSBED FRAMESBEDDING & MOREREVIEWSPUFFY VSSUPPORTSTORES0'),\n",
       " Document(metadata={'source': 'https://puffy.com/products/puffy-blanket?via=menu_item_beddings_puffy-blanket_desktop', 'description': \"Official Puffy Blanket: Wrap yourself in luxury with Puffy's faux fur blanket. Purchase now to enjoy free shipping, a 101-night trial, and a lifetime warranty.\", 'title': 'Official Puffy® Blanket | Luxury Comfort for Every Sleeper', 'language': 'en'}, page_content='Official Puffy® Blanket | Luxury Comfort for Every SleeperMENUMATTRESSESSMART BEDSBED FRAMESBEDDING & MOREREVIEWSPUFFY VSSUPPORTSTORES0'),\n",
       " Document(metadata={'source': 'https://puffy.com/products/puffy-zen-bed-frame?via=menu_item_bedframes_puffy-zen-bed-frame_desktop', 'language': 'en', 'title': 'Official Puffy® Zen Bed Frame | Enjoy Zen-Like Luxury', 'description': 'Official Puffy Zen Bed Frame: Elevate your sleep with the elegant wooden bed frame. Luxury design meets zen-like tranquility for unmatched comfort.'}, page_content='Official Puffy® Zen Bed Frame | Enjoy Zen-Like LuxuryMENUMATTRESSESSMART BEDSBED FRAMESBEDDING & MOREREVIEWSPUFFY VSSUPPORTSTORES0')]"
      ]
     },
     "execution_count": 9,
     "metadata": {},
     "output_type": "execute_result"
    }
   ],
   "source": [
    "retriever = vector_store.as_retriever()\n",
    "retriever.invoke(\n",
    "    \"are there any pillow for neck pain?\"\n",
    ")\n"
   ]
  },
  {
   "cell_type": "code",
   "execution_count": 10,
   "id": "48e77e4d",
   "metadata": {},
   "outputs": [
    {
     "data": {
      "text/plain": [
       "[Tool(name='puffy_lumous', description=\"Details about mattress, smart bed, bedframes, beddings & moreDiscover the difference between the Puffy and Puffy Lux mattresses - Get the luxury sleep you deserve with our 101-night trial, free shipping, and lifetime warranty.\\n\\nOfficial Puffy Cloud Mattress: Sleep in luxury with cloudlike comfort and enjoy $1,350 in savings on the award-winning #1 Memory Foam Mattress 2025.\\n\\nOfficial Puffy Lux Hybrid Mattress: Ranked #1 Mattress-in-a-Box 2025, offers a luxurious blend of comfort and support. Start your 101-night sleep trial today.\\n\\nOfficial Puffy Royal Hybrid Mattress: ranked #1 Luxury Mattress 2025. The ultimate luxury sleep experience. Enjoy the best sleep of your life.\\n\\nOfficial Puffy Monarch Mattress: Experience unparalleled comfort with the evolution in sleep luxury. Enjoy $1,350 savings on top-rated 2025 Hybrid Mattress.\\n\\nOfficial Puffy Smart Bed Sets collection: Enjoy any award-winning Puffy mattress with our bestselling adjustable bed base for a luxurious sleep experience.\\n\\nOfficial Puffy Cloud Smart Bed Set: Experience luxury with the award-winning Puffy Cloud Mattress and Serenity Adjustable Base, combined in one smart bed set.\\n\\nOfficial Puffy Lux Smart Bed Set: Enjoy a luxurious sleep with the top-rated Puffy Lux Mattress 2025 and adjustable bed base, perfectly combined in one set.\\n\\nOfficial Puffy Royal Smart Bed Set: Upgrade to the ultimate luxury with our award-winning Puffy Royal mattress and adjustable base, all in one perfect set.\\n\\nOfficial Puffy collection of luxury bed frames, foundations, and adjustable bases. Elevate your sleep experience. Shop now for ultimate support and style.\\n\\nOfficial Puffy Adjustable Base: Elevate your comfort with the adjustable bed base. Achieve zero gravity and perfect pressure relief at the touch of a button.\\n\\nDiscover the official Puffy Milan Bed Frame: luxurious velvet, channel tufting, and a statement wing headboard. Easy assembly, 101-night trial & free shipping.\\n\\nOfficial Puffy Bed Frame: Enhance your bedroom with the sleek modern bed frame. Luxury design, easy setup, and a lifetime warranty ensure lasting satisfaction.\\n\\nExperience luxury with the Puffy Capri Bed Frame. 100% solid oak, tool-free Japanese joinery, and a plush bouclé headboard. Free shipping & 101-night trial.\\n\\nOfficial Puffy Zen Bed Frame: Elevate your sleep with the elegant wooden bed frame. Luxury design meets zen-like tranquility for unmatched comfort.\\n\\nOfficial Puffy Dusk Bed Frame: Built with a strong metal frame and soft velvet cover, it’s easy to assemble and ships free. Enjoy sleek luxury and support.\\n\\nOfficial Puffy Mattress Foundation: Great sleep starts with a great foundation. Enjoy a stylish, luxury platform bed frame with easy assembly and storage space.\\n\\nOfficial Puffy collection of luxury bedding sets: Transform your bedroom into a cozy paradise. Ultra-soft bed sheets, comforters, pillows, and more.\\n\\nOfficial Puffy Mattress Topper: Transform your mattress comfort with our soft or firm topper. The perfect way to enjoy luxury comfort without a new mattress.\\n\\nOfficial Puffy Sheets Set: Embrace luxury with our cool and airy Puffy viscose bamboo sheets. Shop now and enjoy free shipping plus a 101-night trial.\\n\\nOfficial Puffy Mattress Protector: Safeguard your luxury mattress from wear, tear, and stains with our soft, waterproof, crinkle-free bestseller protector.\\n\\nOfficial Puffy Pillow: Enjoy deep sleep with the luxurious Puffy Pillow, designed for adjustable support and the perfect blend of softness and firmness.\\n\\nOfficial Puffy Mattress Pad: Give your mattress the luxurious, cool cushioning it deserves. Enjoy the high-quality jacquard finish and cloudlike comfort today.\\n\\nOfficial Puffy Mattress Comforter: Enhance your bedding with our hypoallergenic, ultra-soft comforter. Experience luxury and comfort all year round.\\n\\nThe official Puffy Rug is the perfect luxury shag area rug to elevate the comfort of your bedroom or home. Buy now and enjoy free shipping and returns.\\n\\nOfficial Puffy Blanket: Wrap yourself in luxury with Puffy's faux fur blanket. Purchase now to enjoy free shipping, a 101-night trial, and a lifetime warranty.\\n\\nThe official Puffy Weighted Blanket is made with twill cotton and plush micro-mink. Relax into a luxury sleep experience and enjoy a 101-night sleep trial.\\n\\nOfficial Puffy Signature Sleep Mask: Enhance your sleep quality with our comfortable, light-blocking mask. Experience luxury and a 101-night trial.\\n\\nOfficial Puffy SoHo Sectional Sofa: Experience exceptional lounging with plush velvet, modular versatility, and lasting luxury. Designed for comfort.\", args_schema=<class 'langchain_core.tools.retriever.RetrieverInput'>, func=functools.partial(<function _get_relevant_documents at 0x0000022523F1B600>, retriever=VectorStoreRetriever(tags=['Chroma', 'OpenAIEmbeddings'], vectorstore=<langchain_community.vectorstores.chroma.Chroma object at 0x0000022528941FD0>, search_kwargs={}), document_prompt=PromptTemplate(input_variables=['page_content'], input_types={}, partial_variables={}, template='{page_content}'), document_separator='\\n\\n', response_format='content'), coroutine=functools.partial(<function _aget_relevant_documents at 0x0000022523F1BBA0>, retriever=VectorStoreRetriever(tags=['Chroma', 'OpenAIEmbeddings'], vectorstore=<langchain_community.vectorstores.chroma.Chroma object at 0x0000022528941FD0>, search_kwargs={}), document_prompt=PromptTemplate(input_variables=['page_content'], input_types={}, partial_variables={}, template='{page_content}'), document_separator='\\n\\n', response_format='content'))]"
      ]
     },
     "execution_count": 10,
     "metadata": {},
     "output_type": "execute_result"
    }
   ],
   "source": [
    "retriever_tool = create_retriever_tool(retriever=retriever,\n",
    "                         name=\"puffy_lumous\",\n",
    "                          description=\"Details about mattress, smart bed, bedframes, beddings & more\"  + '\\n\\n'.join([doc.metadata['description'] for doc in docs])\n",
    "                        \n",
    "                        )\n",
    "tools = [retriever_tool]\n",
    "tools"
   ]
  },
  {
   "cell_type": "code",
   "execution_count": 64,
   "id": "c7a2c94f",
   "metadata": {},
   "outputs": [],
   "source": [
    "class AgentState(TypedDict):\n",
    "    lang: str\n",
    "    user_query: str\n",
    "    documents: List[str]\n",
    "    messages: List[BaseMessage]\n",
    "    llm_response: str\n",
    "    \n",
    "class QueryExtraction(BaseModel):\n",
    "    lang: str=Field(description=\"language of the user question in the standard of ISO 639-1: Example EN for english; FR for french\")\n",
    "    translated: str=Field(defaullt=None, description=\"English translated query if user has entered non english question\")"
   ]
  },
  {
   "cell_type": "code",
   "execution_count": 66,
   "id": "1c0e92af",
   "metadata": {},
   "outputs": [],
   "source": [
    "def supervisor(state:AgentState):\n",
    "    print('<<--supervisor-->>', state[\"user_query\"])\n",
    "    llm_with_tools = llm.bind_tools(tools) \n",
    "    ai_message = llm_with_tools.invoke(state[\"user_query\"])\n",
    "    #print(f\"response:{ai_message}\")\n",
    "    return {'messages': [ai_message]}\n",
    "\n",
    "def extractor(state:AgentState):\n",
    "    print('<<--extractor-->>', state['user_query'])\n",
    "    \n",
    "    template = \"\"\"\n",
    "    You are a helpful assistant. Analyze the user query. Analyze the query and respond the language code(standard of ISO 639-1) of the query.\n",
    "    Example EN for english; FR for french. For non english, translate the non-english query to english query.\n",
    "    if the user is already in english then do nothing, populate empty space to translated field\n",
    "    \n",
    "    User_query: {user_query}\n",
    "    \"\"\"\n",
    "    prompt = PromptTemplate(template=template,\n",
    "                   input_variables=['user_query'])\n",
    "    print('prompt:', prompt)\n",
    "    chain = prompt | llm.with_structured_output(QueryExtraction)\n",
    "    response=chain.invoke({'user_query':state['user_query']})\n",
    "    \n",
    "    if response.lang == 'EN':\n",
    "        final_query = state['user_query']\n",
    "    else:\n",
    "        final_query = response.translated\n",
    "        \n",
    "    return {\n",
    "        'lang'       : response.lang,\n",
    "        'user_query' : final_query\n",
    "    }\n",
    "\n",
    "def conditional_router(state:AgentState):\n",
    "    if state['lang'] == 'EN':\n",
    "        return 'retriever'\n",
    "    else:\n",
    "        return 'retriever'\n",
    "    \n",
    "def run_retriever(state:AgentState):\n",
    "    print('<<--retriever-->>', state['user_query'])\n",
    "    query = state['user_query']\n",
    "    docs = retriever.invoke(query)\n",
    "    print(f'Query for retriever: {query} \\n Retreived_docs: {docs}')\n",
    "    return {\"documents\":docs} \n",
    "\n",
    "def synthesizer(state:AgentState):\n",
    "    print('<<--synthesizer-->>', state['user_query'])\n",
    "    template = \"\"\"\n",
    "    You are a helpful assistant. Based on the user query regarding Puffy product, I will provide you the context \n",
    "    from which you need to generate the response along with the actual user query.\n",
    "    Follow below instructions\n",
    "    1) Try to be precise, \n",
    "    2) recommend the relevant product as per the user requirement, \n",
    "    3) share the cost for the product & offer if any,\n",
    "    4) tell me importance/significance of the product\n",
    "    5) provide the links to read further or buy the product.\n",
    "    \n",
    "    \\n\n",
    "    User_query: {user_query}\n",
    "    context   : {documents}\n",
    "    \"\"\"\n",
    "    prompt = PromptTemplate(template=template,\n",
    "                   input_variables=['user_query', 'documents'])\n",
    "    print('prompt:', prompt)\n",
    "    chain = prompt | llm\n",
    "    response=chain.invoke({'user_query':state['user_query'],\n",
    "                           'documents' :state['documents']\n",
    "                               })\n",
    "    print(response)\n",
    "    return {'llm_response':response}\n",
    "    "
   ]
  },
  {
   "cell_type": "code",
   "execution_count": 80,
   "id": "e8005a9c",
   "metadata": {},
   "outputs": [
    {
     "data": {
      "text/plain": [
       "'d:\\\\Generative AI\\\\Puffy Lumous\\\\research'"
      ]
     },
     "execution_count": 80,
     "metadata": {},
     "output_type": "execute_result"
    }
   ],
   "source": [
    "os.getcwd()"
   ]
  },
  {
   "cell_type": "code",
   "execution_count": 81,
   "id": "db3ddcc6",
   "metadata": {},
   "outputs": [],
   "source": [
    "vector_store = Chroma(\n",
    "    collection_name=\"puffy_lumous\",  # ✅ Must match\n",
    "    embedding_function=embeddings,\n",
    "    persist_directory=\"../puffy_chroma_store\"  # ✅ Must match\n",
    ")\n",
    "retriever = vector_store.as_retriever()"
   ]
  },
  {
   "cell_type": "code",
   "execution_count": 85,
   "id": "719c6bc3",
   "metadata": {},
   "outputs": [
    {
     "name": "stdout",
     "output_type": "stream",
     "text": [
      "Number of vectors: 1012\n"
     ]
    }
   ],
   "source": [
    "print(\"Number of vectors:\", vector_store._collection.count())  # Check if DB has vectors\n",
    "results = vector_store.similarity_search(\"mattress\", k=3)"
   ]
  },
  {
   "cell_type": "code",
   "execution_count": 84,
   "id": "c9b23e2b",
   "metadata": {},
   "outputs": [
    {
     "data": {
      "text/plain": [
       "[Document(metadata={'description': 'Official Puffy collection of luxury bed frames, foundations, and adjustable bases. Elevate your sleep experience. Shop now for ultimate support and style.', 'source': 'https://puffy.com/collections/bed-frames?via=menu_header_bedframes', 'language': 'en', 'title': 'Official Puffy® Luxury Bed Frames, Adjustable Bases & Foundations'}, page_content='DUSK Bed Frame 34 ReviewsLuxuriously sleek mattress support with long-lasting comfort.Strong 100% steel framePlush velvet coverUp to 13\" under-bed storageStarts at$269 With SavingsSHOP NOWJULY SALE15% OffPuffy MIDNIGHT Foundation 643 ReviewsStrong and functional support for your mattress.15\" storage spaceAssembles in minutesLightweightStarts at$152 With SavingsSHOP NOW6 Reasons To Shop PuffyREASON 1Best July Sale offers.Get the best deals on our high-quality mattresses, bed frames, and bedroom accessories.REASON 2Easy financing options.Choose mattress financing as low as 0% APR with Affirm.REASON 3Made in USA.Every Puffy mattress is designed and manufactured in the USA.REASON 4101-night sleep trial.Try your Puffy product in the comfort of your own home with our 101-night sleep trial. Risk-free.REASON 5Warranty. For life.Sleep soundly knowing every Puffy product comes with a lifetime warranty.REASON 6Free shipping. In 1 - 2 days.Shipping is fast and free. Your order is dispatched in 1 - 2 business days.Our Bestselling Sleep UpgradesPerfect your comfort with these top-sellers.JULY SALESave $1,350Puffy LUX Mattress Hybrid 12,465 ReviewsStarts at$799with code JULYSALESHOP PUFFY LUXJULY SALE15% OffPuffy SIGNATURE Pillow  575 Reviews$102With SavingsSHOP NOWJULY SALE15% OffPuffy SIGNATURE Mattress Protector  465 Reviews$128With SavingsSHOP NOWQuestions?We’ve Got AnswersWhat sizes do Puffy bed frames come in?Can I use my existing headboard?Can the Puffy Serenity Adjustable Base fit inside any bed frame?What type of'),\n",
       " Document(metadata={'description': 'Official Puffy collection of luxury bed frames, foundations, and adjustable bases. Elevate your sleep experience. Shop now for ultimate support and style.', 'source': 'https://puffy.com/collections/bed-frames?via=menu_header_bedframes', 'language': 'en', 'title': 'Official Puffy® Luxury Bed Frames, Adjustable Bases & Foundations'}, page_content='DUSK Bed Frame 34 ReviewsLuxuriously sleek mattress support with long-lasting comfort.Strong 100% steel framePlush velvet coverUp to 13\" under-bed storageStarts at$269 With SavingsSHOP NOWJULY SALE15% OffPuffy MIDNIGHT Foundation 643 ReviewsStrong and functional support for your mattress.15\" storage spaceAssembles in minutesLightweightStarts at$152 With SavingsSHOP NOW6 Reasons To Shop PuffyREASON 1Best July Sale offers.Get the best deals on our high-quality mattresses, bed frames, and bedroom accessories.REASON 2Easy financing options.Choose mattress financing as low as 0% APR with Affirm.REASON 3Made in USA.Every Puffy mattress is designed and manufactured in the USA.REASON 4101-night sleep trial.Try your Puffy product in the comfort of your own home with our 101-night sleep trial. Risk-free.REASON 5Warranty. For life.Sleep soundly knowing every Puffy product comes with a lifetime warranty.REASON 6Free shipping. In 1 - 2 days.Shipping is fast and free. Your order is dispatched in 1 - 2 business days.Our Bestselling Sleep UpgradesPerfect your comfort with these top-sellers.JULY SALESave $1,350Puffy LUX Mattress Hybrid 12,465 ReviewsStarts at$799with code JULYSALESHOP PUFFY LUXJULY SALE15% OffPuffy SIGNATURE Pillow  575 Reviews$102With SavingsSHOP NOWJULY SALE15% OffPuffy SIGNATURE Mattress Protector  465 Reviews$128With SavingsSHOP NOWQuestions?We’ve Got AnswersWhat sizes do Puffy bed frames come in?Can I use my existing headboard?Can the Puffy Serenity Adjustable Base fit inside any bed frame?What type of'),\n",
       " Document(metadata={'description': 'Official Puffy collection of luxury bed frames, foundations, and adjustable bases. Elevate your sleep experience. Shop now for ultimate support and style.', 'title': 'Official Puffy® Luxury Bed Frames, Adjustable Bases & Foundations', 'language': 'en', 'source': 'https://puffy.com/collections/bed-frames?via=menu_header_bedframes'}, page_content='DUSK Bed Frame 34 ReviewsLuxuriously sleek mattress support with long-lasting comfort.Strong 100% steel framePlush velvet coverUp to 13\" under-bed storageStarts at$269 With SavingsSHOP NOWJULY SALE15% OffPuffy MIDNIGHT Foundation 643 ReviewsStrong and functional support for your mattress.15\" storage spaceAssembles in minutesLightweightStarts at$152 With SavingsSHOP NOW6 Reasons To Shop PuffyREASON 1Best July Sale offers.Get the best deals on our high-quality mattresses, bed frames, and bedroom accessories.REASON 2Easy financing options.Choose mattress financing as low as 0% APR with Affirm.REASON 3Made in USA.Every Puffy mattress is designed and manufactured in the USA.REASON 4101-night sleep trial.Try your Puffy product in the comfort of your own home with our 101-night sleep trial. Risk-free.REASON 5Warranty. For life.Sleep soundly knowing every Puffy product comes with a lifetime warranty.REASON 6Free shipping. In 1 - 2 days.Shipping is fast and free. Your order is dispatched in 1 - 2 business days.Our Bestselling Sleep UpgradesPerfect your comfort with these top-sellers.JULY SALESave $1,350Puffy LUX Mattress Hybrid 12,465 ReviewsStarts at$799with code JULYSALESHOP PUFFY LUXJULY SALE15% OffPuffy SIGNATURE Pillow  575 Reviews$102With SavingsSHOP NOWJULY SALE15% OffPuffy SIGNATURE Mattress Protector  465 Reviews$128With SavingsSHOP NOWQuestions?We’ve Got AnswersWhat sizes do Puffy bed frames come in?Can I use my existing headboard?Can the Puffy Serenity Adjustable Base fit inside any bed frame?What type of'),\n",
       " Document(metadata={'language': 'en', 'source': 'https://puffy.com/collections/bed-frames?via=menu_header_bedframes', 'title': 'Official Puffy® Luxury Bed Frames, Adjustable Bases & Foundations', 'description': 'Official Puffy collection of luxury bed frames, foundations, and adjustable bases. Elevate your sleep experience. Shop now for ultimate support and style.'}, page_content='DUSK Bed Frame 34 ReviewsLuxuriously sleek mattress support with long-lasting comfort.Strong 100% steel framePlush velvet coverUp to 13\" under-bed storageStarts at$269 With SavingsSHOP NOWJULY SALE15% OffPuffy MIDNIGHT Foundation 643 ReviewsStrong and functional support for your mattress.15\" storage spaceAssembles in minutesLightweightStarts at$152 With SavingsSHOP NOW6 Reasons To Shop PuffyREASON 1Best July Sale offers.Get the best deals on our high-quality mattresses, bed frames, and bedroom accessories.REASON 2Easy financing options.Choose mattress financing as low as 0% APR with Affirm.REASON 3Made in USA.Every Puffy mattress is designed and manufactured in the USA.REASON 4101-night sleep trial.Try your Puffy product in the comfort of your own home with our 101-night sleep trial. Risk-free.REASON 5Warranty. For life.Sleep soundly knowing every Puffy product comes with a lifetime warranty.REASON 6Free shipping. In 1 - 2 days.Shipping is fast and free. Your order is dispatched in 1 - 2 business days.Our Bestselling Sleep UpgradesPerfect your comfort with these top-sellers.JULY SALESave $1,350Puffy LUX Mattress Hybrid 12,465 ReviewsStarts at$799with code JULYSALESHOP PUFFY LUXJULY SALE15% OffPuffy SIGNATURE Pillow  575 Reviews$102With SavingsSHOP NOWJULY SALE15% OffPuffy SIGNATURE Mattress Protector  465 Reviews$128With SavingsSHOP NOWQuestions?We’ve Got AnswersWhat sizes do Puffy bed frames come in?Can I use my existing headboard?Can the Puffy Serenity Adjustable Base fit inside any bed frame?What type of')]"
      ]
     },
     "execution_count": 84,
     "metadata": {},
     "output_type": "execute_result"
    }
   ],
   "source": [
    "retriever.invoke('My room measures 12 m². What bed frame would be best?')"
   ]
  },
  {
   "cell_type": "code",
   "execution_count": 42,
   "id": "154e2d5e",
   "metadata": {},
   "outputs": [
    {
     "name": "stdout",
     "output_type": "stream",
     "text": [
      "<<--retriever-->> what mattress is good?\n",
      "Query for retriever: what mattress is good? \n",
      " Retreived_docs: [Document(metadata={'title': 'Official Puffy® Lux Hybrid Mattress | Ranked #1 Luxury Mattress', 'language': 'en', 'source': 'https://puffy.com/products/puffy-lux-mattress?via=menu_item_mattresses_puffy-lux-mattress_desktop', 'description': 'Official Puffy Lux Hybrid Mattress: Ranked #1 Mattress-in-a-Box 2025, offers a luxurious blend of comfort and support. Start your 101-night sleep trial today.'}, page_content='Puffy Lux1M+ Sold. Sleep on Our Award-Winning Luxury MattressBest Mattress  2025Best Luxury  Mattress  2025Best Soft  Mattress-in-a-Box  2025Best Mattress  for Back Pain  2025Puffy LUX MattressHybridRated 5 stars AVAILABLE UPGRADES:ComparePuffy LUXMattressHybrid8 LayersMedium-PlushMemory Foam & Wrapped Coils+ $350Premium ChoicePuffy ROYALMattressHybrid10 LayersUltra-Plush5-Zoned Support Foam & CoilsCHOOSE YOUR SIZE:Size guideTwinTwin XLFullQueenKingCal KingSplit King(Total Value  $2,149)$799with code JULYSALEJULY SALEADD TO CART100% money-back guarantee. Order today for delivery by Jul 30 - Aug 4.FREE 2 PILLOWS & SLEEP MASK:$315 FREE2 Signature Memory  Foam PillowS$240Signature  Sleep Mask$75Need  help ordering? Call now.Talk 1-on-1 with our support specialist.Talk 1-on-1 with our support specialist.Call +1 (800) 430-8380orChat With UsMade  in USA.Free shipping. In 1 - 2 days.101-night  sleep trial.Warranty. For life.ProductsMATTRESSESPuffy Cloud MattressPuffy Lux Hybrid MattressPuffy Royal Hybrid MattressPuffy Monarch Hybrid MattressSMART BEDSPuffy Cloud Smart Bed SetPuffy Lux Smart Bed Set HybridPuffy Royal Smart Bed Set HybridPuffy Monarch Smart Bed Set HybridBED FRAMESSerenity Adjustable BaseMilan Bed FrameSterling Bed FrameCapri Bed FrameZen Bed FrameDusk Bed FrameMidnight FoundationBEDDING & MORESignature'), Document(metadata={'source': 'https://puffy.com/products/puffy-lux-mattress?via=menu_item_mattresses_puffy-lux-mattress_desktop', 'title': 'Official Puffy® Lux Hybrid Mattress | Ranked #1 Luxury Mattress', 'description': 'Official Puffy Lux Hybrid Mattress: Ranked #1 Mattress-in-a-Box 2025, offers a luxurious blend of comfort and support. Start your 101-night sleep trial today.', 'language': 'en'}, page_content='Official Puffy® Lux Hybrid Mattress | Ranked #1 Luxury MattressMENUMATTRESSESSMART BEDSBED FRAMESBEDDING & MOREREVIEWSPUFFY VSSUPPORTSTORES0'), Document(metadata={'title': 'Official Puffy® Cloud Mattress | Best Memory Foam Mattress', 'description': 'Official Puffy Cloud Mattress: Sleep in luxury with cloudlike comfort and enjoy $1,350 in savings on the award-winning #1 Memory Foam Mattress 2025.', 'source': 'https://puffy.com/products/puffy-mattress?via=menu_item_mattresses_puffy-mattress_desktop', 'language': 'en'}, page_content='Puffy CloudAward-Winning Comfort. #1 Memory Foam MattressBest Memory  Foam Mattress  2025Best Mattress  for Combination  Sleepers 2025Best Mattress for  Back Sleepers  2025Best Memory  Foam MattressPuffy CLOUD MattressMemory FoamRated 5 stars by 12,000+ sleepersAVAILABLE UPGRADES:ComparePuffy CLOUD Mattress6 LayersMedium-FirmMemory Foam+ $300Best SellerPuffy LUX MattressHybrid8 LayersMedium-PlushMemory Foam & Wrapped CoilsCHOOSE YOUR SIZE:Size guideTwinTwin XLFullQueenKingCal KingSplit King(Total Value  $1,849)$499with code JULYSALEJULY SALEADD TO CARTFREE 2 PILLOWS & SLEEP MASK:$315 FREE2 Signature Memory  Foam PillowS$240Signature  Sleep Mask$75Need  help ordering? Call now.Talk 1-on-1 with our support specialist.Talk 1-on-1 with our support specialist.Call +1 (800) 430-8380orChat With UsMade  in USA.Free shipping. In 1 - 2 days.101-night  sleep trial.Warranty. For life.ProductsMATTRESSESPuffy Cloud MattressPuffy Lux Hybrid MattressPuffy Royal Hybrid MattressPuffy Monarch Hybrid MattressSMART BEDSPuffy Cloud Smart Bed SetPuffy Lux Smart Bed Set HybridPuffy Royal Smart Bed Set HybridPuffy Monarch Smart Bed Set HybridBED FRAMESSerenity Adjustable BaseMilan Bed FrameSterling Bed FrameCapri Bed FrameZen Bed FrameDusk Bed FrameMidnight FoundationBEDDING & MORESignature PillowSignature Sheets SetSignature Mattress ProtectorSignature Sleep'), Document(metadata={'language': 'en', 'source': 'https://puffy.com/products/puffy-mattress?via=menu_item_mattresses_puffy-mattress_desktop', 'title': 'Official Puffy® Cloud Mattress | Best Memory Foam Mattress', 'description': 'Official Puffy Cloud Mattress: Sleep in luxury with cloudlike comfort and enjoy $1,350 in savings on the award-winning #1 Memory Foam Mattress 2025.'}, page_content='Official Puffy® Cloud Mattress | Best Memory Foam MattressMENUMATTRESSESSMART BEDSBED FRAMESBEDDING & MOREREVIEWSPUFFY VSSUPPORTSTORES0')]\n",
      "<<--synthesizer-->> what mattress is good?\n",
      "prompt: input_variables=['documents', 'user_query'] input_types={} partial_variables={} template='\\n    You are a helpful assistant. Based on the user query regarding Puffy product, I will provide you the context \\n    from which you need to generate the response along with the actual user query.\\n    Follow below instructions\\n    1) Try to be precise, \\n    2) recommend the relevant product as per the user requirement, \\n    3) share the cost for the product & offer if any,\\n    4) tell me importance/significance of the product\\n    5) provide the links to read further or buy the product.\\n\\n    \\n\\n    User_query: {user_query}\\n    context   : {documents}\\n    '\n",
      "content=\"Response:\\nBased on your query, the Puffy Lux Hybrid Mattress is a highly recommended choice. It is ranked as the #1 Luxury Mattress and offers a luxurious blend of comfort and support. This mattress is perfect for those seeking a medium-plush feel with 8 layers including memory foam and wrapped coils.\\n\\nCost & Offer:\\nThe Puffy Lux Hybrid Mattress is priced at $799 but you can avail an additional discount with the code JULYSALE. The total value of this mattress is $2,149 but you can get it for $799 with the offer. Additionally, with your purchase, you will receive 2 free pillows and a sleep mask worth $315.\\n\\nImportance/Significance:\\nThis mattress is designed to provide ultimate comfort and support for a restful night's sleep. It has received high ratings and is perfect for back pain relief.\\n\\nFor further details or to make a purchase, you can visit the official Puffy Lux Hybrid Mattress page: [Puffy Lux Hybrid Mattress](https://puffy.com/products/puffy-lux-mattress?via=menu_item_mattresses_puffy-lux-mattress_desktop)\" additional_kwargs={'refusal': None} response_metadata={'token_usage': {'completion_tokens': 236, 'prompt_tokens': 1389, 'total_tokens': 1625, 'completion_tokens_details': {'accepted_prediction_tokens': 0, 'audio_tokens': 0, 'reasoning_tokens': 0, 'rejected_prediction_tokens': 0}, 'prompt_tokens_details': {'audio_tokens': 0, 'cached_tokens': 0}}, 'model_name': 'gpt-3.5-turbo-0125', 'system_fingerprint': None, 'id': 'chatcmpl-Bxk6ywX3t2J0Lv6SIHPQRRirbMPPo', 'service_tier': 'default', 'finish_reason': 'stop', 'logprobs': None} id='run--fb1c9885-7240-4b2b-a65b-649cb0c5ecf0-0' usage_metadata={'input_tokens': 1389, 'output_tokens': 236, 'total_tokens': 1625, 'input_token_details': {'audio': 0, 'cache_read': 0}, 'output_token_details': {'audio': 0, 'reasoning': 0}}\n"
     ]
    },
    {
     "data": {
      "text/plain": [
       "{'llm_response': AIMessage(content=\"Response:\\nBased on your query, the Puffy Lux Hybrid Mattress is a highly recommended choice. It is ranked as the #1 Luxury Mattress and offers a luxurious blend of comfort and support. This mattress is perfect for those seeking a medium-plush feel with 8 layers including memory foam and wrapped coils.\\n\\nCost & Offer:\\nThe Puffy Lux Hybrid Mattress is priced at $799 but you can avail an additional discount with the code JULYSALE. The total value of this mattress is $2,149 but you can get it for $799 with the offer. Additionally, with your purchase, you will receive 2 free pillows and a sleep mask worth $315.\\n\\nImportance/Significance:\\nThis mattress is designed to provide ultimate comfort and support for a restful night's sleep. It has received high ratings and is perfect for back pain relief.\\n\\nFor further details or to make a purchase, you can visit the official Puffy Lux Hybrid Mattress page: [Puffy Lux Hybrid Mattress](https://puffy.com/products/puffy-lux-mattress?via=menu_item_mattresses_puffy-lux-mattress_desktop)\", additional_kwargs={'refusal': None}, response_metadata={'token_usage': {'completion_tokens': 236, 'prompt_tokens': 1389, 'total_tokens': 1625, 'completion_tokens_details': {'accepted_prediction_tokens': 0, 'audio_tokens': 0, 'reasoning_tokens': 0, 'rejected_prediction_tokens': 0}, 'prompt_tokens_details': {'audio_tokens': 0, 'cached_tokens': 0}}, 'model_name': 'gpt-3.5-turbo-0125', 'system_fingerprint': None, 'id': 'chatcmpl-Bxk6ywX3t2J0Lv6SIHPQRRirbMPPo', 'service_tier': 'default', 'finish_reason': 'stop', 'logprobs': None}, id='run--fb1c9885-7240-4b2b-a65b-649cb0c5ecf0-0', usage_metadata={'input_tokens': 1389, 'output_tokens': 236, 'total_tokens': 1625, 'input_token_details': {'audio': 0, 'cache_read': 0}, 'output_token_details': {'audio': 0, 'reasoning': 0}})}"
      ]
     },
     "execution_count": 42,
     "metadata": {},
     "output_type": "execute_result"
    }
   ],
   "source": [
    "state = {'user_query':'what mattress is good?'}\n",
    "#response=supervisor(state)\n",
    "#print(response)\n",
    "#run_retriever(state)\n",
    "\n",
    "synthesizer(state= {'user_query':'what mattress is good?', 'documents': run_retriever({'user_query':'what mattress is good?'})})\n",
    "\n",
    "#response=extractor(state)\n",
    "#print(response)"
   ]
  },
  {
   "cell_type": "code",
   "execution_count": 67,
   "id": "f697e52e",
   "metadata": {},
   "outputs": [
    {
     "data": {
      "image/png": "[encoded data removed]",
      "text/plain": [
       "<langgraph.graph.state.CompiledStateGraph object at 0x000002252FEB4A40>"
      ]
     },
     "execution_count": 67,
     "metadata": {},
     "output_type": "execute_result"
    }
   ],
   "source": [
    "workflow = StateGraph(AgentState)\n",
    "workflow.add_node(\"supervisor\", supervisor)\n",
    "workflow.add_node(\"extractor\", extractor)\n",
    "workflow.add_node(\"run_retriever\", run_retriever)\n",
    "workflow.add_node(\"synthesizer\", synthesizer)\n",
    "\n",
    "workflow.add_edge(START, \"supervisor\")\n",
    "workflow.add_conditional_edges(\"supervisor\", \n",
    "                               tools_condition, \n",
    "                               {'tools': \"extractor\",\n",
    "                                END: END\n",
    "                                }\n",
    "                               )\n",
    "#workflow.add_edge(\"supervisor\", \"extractor\")\n",
    "workflow.add_conditional_edges(\"extractor\",\n",
    "                               conditional_router,\n",
    "                               {\n",
    "                                   'retriever':'run_retriever'\n",
    "                               }\n",
    "                               )\n",
    "workflow.add_edge('run_retriever', 'synthesizer')\n",
    "workflow.add_edge('synthesizer', END)\n",
    "workflow.compile()"
   ]
  },
  {
   "cell_type": "code",
   "execution_count": 69,
   "id": "29812bfc",
   "metadata": {},
   "outputs": [
    {
     "name": "stdout",
     "output_type": "stream",
     "text": [
      "<<--supervisor-->> Quelle est la meilleure base de lit ajustable pour une chambre de 12 mètres carrés?\n",
      "<<--extractor-->> Quelle est la meilleure base de lit ajustable pour une chambre de 12 mètres carrés?\n",
      "prompt: input_variables=['user_query'] input_types={} partial_variables={} template='\\n    You are a helpful assistant. Analyze the user query. Analyze the query and respond the language code(standard of ISO 639-1) of the query.\\n    Example EN for english; FR for french. For non english, translate the non-english query to english query.\\n    if the user is already in english then do nothing, populate empty space to translated field\\n\\n    User_query: {user_query}\\n    '\n"
     ]
    },
    {
     "name": "stderr",
     "output_type": "stream",
     "text": [
      "c:\\Users\\SAIRAM\\anaconda3\\envs\\agentic2.0\\Lib\\site-packages\\langchain_openai\\chat_models\\base.py:1690: UserWarning: Cannot use method='json_schema' with model gpt-3.5-turbo since it doesn't support OpenAI's Structured Output API. You can see supported models here: https://platform.openai.com/docs/guides/structured-outputs#supported-models. To fix this warning, set `method='function_calling'. Overriding to method='function_calling'.\n",
      "  warnings.warn(\n"
     ]
    },
    {
     "name": "stdout",
     "output_type": "stream",
     "text": [
      "<<--retriever-->> What is the best adjustable bed base for a 12 square meter room?\n",
      "Query for retriever: What is the best adjustable bed base for a 12 square meter room? \n",
      " Retreived_docs: [Document(metadata={'source': 'https://puffy.com/products/puffy-adjustable-base?via=menu_item_bedframes_puffy-adjustable-base_desktop', 'language': 'en', 'description': 'Official Puffy Adjustable Base: Elevate your comfort with the adjustable bed base. Achieve zero gravity and perfect pressure relief at the touch of a button.', 'title': 'Official Puffy® Adjustable Base | Luxury Base for Your Mattress'}, page_content='Puffy SERENITY Adjustable BaseTwin XLADD TO CART$1,199Twin XL  38\"W x 80\"L x 15\"H$1,499$1,199ADD TO CARTPuffy Serenity Adjustable BasePremium Comfort Control at the Touch of a ButtonPuffy SERENITY Adjustable BaseRated 5 stars CHOOSE YOUR SIZE:Size guideTwin XLFullQueenSplit King(Total Value  $1,499)$1,199with savingsBuy with a mattress and save $300 $500ADD TO CARTAdd a mattress:$3,249 $1,899Puffy Monarch Mattress Hybrid 16\" profile Most luxurious Free Luxury Pillows & Sleep Mask ($315 Value)View Monarch Puffy Royal Mattress Hybrid 14\" profile Premium comfort Free Luxury Pillows & Sleep Mask ($315 Value)View Royal Puffy Lux Mattress Hybrid 12\" profile Most popular Free Luxury Pillows & Sleep Mask ($315 Value)View Lux Puffy Cloud Mattress Memory Foam 10\" profile Classic design Free Luxury Pillows & Sleep Mask ($315 Value)View Cloud Previous slideNext slideNeed  help ordering? Call now.Talk 1-on-1 with our support specialist.Talk 1-on-1 with our support specialist.Call +1 (800) 430-8380orChat With UsFree shipping. In 1 - 2 days.101-night  sleep trial.Warranty. For life.ProductsMATTRESSESPuffy Cloud MattressPuffy Lux Hybrid MattressPuffy Royal Hybrid MattressPuffy Monarch Hybrid MattressSMART BEDSPuffy Cloud Smart Bed SetPuffy Lux Smart Bed Set HybridPuffy Royal Smart Bed Set HybridPuffy Monarch Smart Bed Set HybridBED FRAMESSerenity Adjustable BaseMilan Bed FrameSterling Bed FrameCapri Bed FrameZen Bed FrameDusk Bed FrameMidnight FoundationBEDDING'), Document(metadata={'description': 'Official Puffy collection of luxury bed frames, foundations, and adjustable bases. Elevate your sleep experience. Shop now for ultimate support and style.', 'title': 'Official Puffy® Luxury Bed Frames, Adjustable Bases & Foundations', 'source': 'https://puffy.com/collections/bed-frames?via=menu_header_bedframes', 'language': 'en'}, page_content='Official Puffy® Luxury Bed Frames, Adjustable Bases & FoundationsMENUMATTRESSESSMART BEDSBED FRAMESBEDDING & MOREREVIEWSPUFFY VSSUPPORTSTORES0    Bed Frames  To Elevate Your Space101-night sleep trial.Free shipping. In 1 - 2 days.Warranty. For life.Great Sleep Deserves a Great FoundationJULY SALESave $600Puffy CAPRI Bed Frame NEW LUXURY ITEM!Premium solid oak construction with interlocking Japanese joinery.100% solid oak woodInterlocking Japanese joineryLuxurious bouclé headboardStarts at$1,595 With SavingsSHOP NOWJULY SALESave $200Puffy ZEN Bed Frame 39 ReviewsPrecision-crafted wood design for lasting luxury and support.100% solid pinewoodSturdy Japanese joineryQuick, tool-free assemblyStarts at$795 With SavingsSHOP NOWJULY SALESave $700Puffy MILAN Bed Frame NEW LUXURY ITEM!Luxurious architectural bed frame with channel-tufted design.Deep-channel tuftingPremium velvet fabricExpanded wing designStarts at$1,799 With SavingsSHOP NOWJULY SALESave $300Puffy SERENITY Adjustable Base 674 ReviewsCustomize your comfort with the click of a button.Remote-controlled elevationBuilt-in dual USB chargingMassage zonesStarts at$1,199 With SavingsSHOP NOWJULY SALE15% OffPuffy STERLING Bed Frame 114 ReviewsModern look and feel that blends style and comfort.Soft fabric headboardNoise-freeEasy assemblyStarts at$849 With SavingsSHOP NOWJULY SALE15% OffPuffy DUSK Bed Frame 34 ReviewsLuxuriously sleek mattress support with long-lasting'), Document(metadata={'description': 'Discover the difference between the Puffy and Puffy Lux mattresses - Get the luxury sleep you deserve with our 101-night trial, free shipping, and lifetime warranty.', 'language': 'en', 'title': 'Official Puffy® vs Puffy® Lux Mattress Comparison | Luxury Mattresses', 'source': 'https://puffy.com/pages/puffy-mattress-and-puffy-lux?via=menu_header_mattress'}, page_content='slideCHOOSE YOUR SIZE:Twin   (38\"W x 75\"L x 10\"H)$1,849$499ADD TO CART|$499 $1,849Essential comfort with back support & cooling.Not too soft, not too firm. Balanced feel for exceptional value.Cool-touch cover actively disperses body heat.Optimal back support designed to help keep body aligned.Breathable, responsive body contouring.Pressure-relieving memory foam cradles muscles and joints.Explore Puffy CloudPuffy LUXHybridPlush Dual Cloud Foam12\" Height|8 Layers|Medium-PlushNext slidePrevious slideCHOOSE YOUR SIZE:Twin   (38\"W x 75\"L x 12\"H)$2,149$799ADD TO CART|$799 $2,149Enhanced comfort, back support & cooling.Our bestselling hybrid (foam + coils). Slightly softer than the Cloud.Better airflow for breathable, cooling sleep.Ergonomic design for more back support.Motion-isolating pocketed coil base.Plusher foams to help soothe joint pressure.Explore Puffy LuxPuffy ROYALHybridCloud Breeze™ Technology14\" Height|10 Layers|Ultra-PlushNext slidePrevious slideCHOOSE YOUR SIZE:Twin   (38\"W x 75\"L x 14\"H)$2,499$1,149ADD TO CART|$1,149 $2,499Premium luxury with zoned support & cooling.Our most popular premium option. Softer and more supportive.Moisture-wicking wool keeps you cool & dry.5 targeted zones for custom support.Adaptive coils for full-body alignment.Softer foam contouring for  deep pressure relief.Explore Puffy RoyalPuffy MONARCHHybridPremium Alpaca Wool Cooling16\"'), Document(metadata={'language': 'en', 'source': 'https://puffy.com/products/puffy-cloud-smart-bed-set?via=menu_item_smartbeds_puffy-cloud-smart-bed-set_desktop', 'title': 'Official Puffy® Cloud Smart Bed Set | Ranked #1 Luxury Mattress', 'description': 'Official Puffy Cloud Smart Bed Set: Experience luxury with the award-winning Puffy Cloud Mattress and Serenity Adjustable Base, combined in one smart bed set.'}, page_content='Puffy CLOUD Smart Bed SetTwin XLADD TO CART$1,648Twin XL  38\"W x 80\"L x 25\"H$3,498$1,648ADD TO CARTPuffy Cloud Smart Bed SetMedium-Firm Mattress With Remote-Controlled Adjustable BasePuffy CLOUD Smart Bed SetMemory FoamRated 5 stars CHOOSE YOUR SIZE:Size guideTwin XLFullQueenKingSplit King(Total Value  $3,498)$1,648with code JULYSALEJULY SALEADD TO CARTFREE 2 PILLOWS & SLEEP MASK:$315 FREE2 Signature Memory  Foam PillowS$240Signature  Sleep Mask$75Need  help ordering? Call now.Talk 1-on-1 with our support specialist.Talk 1-on-1 with our support specialist.Call +1 (800) 430-8380orChat With UsMattress  made in USA.101-night  sleep trial.Warranty. For life.Free shipping. In 1 - 2 days.ProductsMATTRESSESPuffy Cloud MattressPuffy Lux Hybrid MattressPuffy Royal Hybrid MattressPuffy Monarch Hybrid MattressSMART BEDSPuffy Cloud Smart Bed SetPuffy Lux Smart Bed Set HybridPuffy Royal Smart Bed Set HybridPuffy Monarch Smart Bed Set HybridBED FRAMESSerenity Adjustable BaseMilan Bed FrameSterling Bed FrameCapri Bed FrameZen Bed FrameDusk Bed FrameMidnight FoundationBEDDING & MORESignature PillowSignature Sheets SetSignature Mattress ProtectorSignature Sleep MaskDeluxe Mattress TopperDeluxe Mattress PadDeluxe ComforterDeluxe BlanketDeluxe Weighted BlanketSoHo Sectional SofaRugSaleFOLLOW USShop by SizeTwinTwin XLFullQueenKingCal')]\n",
      "<<--synthesizer-->> What is the best adjustable bed base for a 12 square meter room?\n",
      "prompt: input_variables=['documents', 'user_query'] input_types={} partial_variables={} template='\\n    You are a helpful assistant. Based on the user query regarding Puffy product, I will provide you the context \\n    from which you need to generate the response along with the actual user query.\\n    Follow below instructions\\n    1) Try to be precise, \\n    2) recommend the relevant product as per the user requirement, \\n    3) share the cost for the product & offer if any,\\n    4) tell me importance/significance of the product\\n    5) provide the links to read further or buy the product.\\n\\n    \\n\\n    User_query: {user_query}\\n    context   : {documents}\\n    '\n",
      "content='The best adjustable bed base for a 12 square meter room would be the Puffy Serenity Adjustable Base. This base allows you to customize your comfort with remote-controlled elevation, built-in dual USB charging, and massage zones. \\n\\nCost:\\n- Twin XL: $1,199 (original price $1,499, currently on sale for $1,199)\\n\\nImportance/Significance:\\nThe Puffy Serenity Adjustable Base elevates your comfort by allowing you to achieve zero gravity and perfect pressure relief at the touch of a button. It helps in creating a personalized sleep experience tailored to your preferences.\\n\\nYou can find more information about the Puffy Serenity Adjustable Base and make a purchase at the official Puffy website: [Puffy Adjustable Base](https://puffy.com/products/puffy-adjustable-base?via=menu_item_bedframes_puffy-adjustable-base_desktop)' additional_kwargs={'refusal': None} response_metadata={'token_usage': {'completion_tokens': 177, 'prompt_tokens': 1999, 'total_tokens': 2176, 'completion_tokens_details': {'accepted_prediction_tokens': 0, 'audio_tokens': 0, 'reasoning_tokens': 0, 'rejected_prediction_tokens': 0}, 'prompt_tokens_details': {'audio_tokens': 0, 'cached_tokens': 0}}, 'model_name': 'gpt-3.5-turbo-0125', 'system_fingerprint': None, 'id': 'chatcmpl-BxkLZeZhAPhogtZZdaMKjtYsAM9fQ', 'service_tier': 'default', 'finish_reason': 'stop', 'logprobs': None} id='run--6d528509-0842-4a33-8d15-f7f10501a34e-0' usage_metadata={'input_tokens': 1999, 'output_tokens': 177, 'total_tokens': 2176, 'input_token_details': {'audio': 0, 'cache_read': 0}, 'output_token_details': {'audio': 0, 'reasoning': 0}}\n"
     ]
    }
   ],
   "source": [
    "q = 'what mattress is good?'\n",
    "q = 'Quelle est la meilleure base de lit ajustable pour une chambre de 12 mètres carrés?'\n",
    "state = {'user_query':q}\n",
    "app=workflow.compile()\n",
    "response = app.invoke(state)"
   ]
  },
  {
   "cell_type": "code",
   "execution_count": null,
   "id": "18be12ac",
   "metadata": {},
   "outputs": [],
   "source": []
  }
 ],
 "metadata": {
  "kernelspec": {
   "display_name": "agentic2.0",
   "language": "python",
   "name": "python3"
  },
  "language_info": {
   "codemirror_mode": {
    "name": "ipython",
    "version": 3
   },
   "file_extension": ".py",
   "mimetype": "text/x-python",
   "name": "python",
   "nbconvert_exporter": "python",
   "pygments_lexer": "ipython3",
   "version": "3.12.11"
  }
 },
 "nbformat": 4,
 "nbformat_minor": 5
}
